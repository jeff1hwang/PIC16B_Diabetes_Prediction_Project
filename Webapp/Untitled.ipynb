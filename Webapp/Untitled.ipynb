{
 "cells": [
  {
   "cell_type": "code",
   "execution_count": 2,
   "id": "57d7abf8",
   "metadata": {},
   "outputs": [
    {
     "ename": "NameError",
     "evalue": "name 'xgb' is not defined",
     "output_type": "error",
     "traceback": [
      "\u001b[0;31m---------------------------------------------------------------------------\u001b[0m",
      "\u001b[0;31mNameError\u001b[0m                                 Traceback (most recent call last)",
      "\u001b[0;32m<ipython-input-2-7f527e5ce452>\u001b[0m in \u001b[0;36m<module>\u001b[0;34m\u001b[0m\n\u001b[1;32m     31\u001b[0m \u001b[0mnp\u001b[0m\u001b[0;34m.\u001b[0m\u001b[0mrandom\u001b[0m\u001b[0;34m.\u001b[0m\u001b[0mseed\u001b[0m\u001b[0;34m(\u001b[0m\u001b[0;36m999\u001b[0m\u001b[0;34m)\u001b[0m\u001b[0;34m\u001b[0m\u001b[0;34m\u001b[0m\u001b[0m\n\u001b[1;32m     32\u001b[0m \u001b[0mX_train\u001b[0m\u001b[0;34m,\u001b[0m\u001b[0mX_test\u001b[0m\u001b[0;34m,\u001b[0m\u001b[0mY_train\u001b[0m\u001b[0;34m,\u001b[0m\u001b[0mY_test\u001b[0m \u001b[0;34m=\u001b[0m \u001b[0mtrain_test_split\u001b[0m\u001b[0;34m(\u001b[0m\u001b[0mX\u001b[0m\u001b[0;34m,\u001b[0m\u001b[0mY\u001b[0m\u001b[0;34m,\u001b[0m\u001b[0mtest_size\u001b[0m\u001b[0;34m=\u001b[0m\u001b[0;36m0.2\u001b[0m\u001b[0;34m,\u001b[0m\u001b[0mrandom_state\u001b[0m\u001b[0;34m=\u001b[0m\u001b[0;36m100\u001b[0m\u001b[0;34m)\u001b[0m\u001b[0;34m\u001b[0m\u001b[0;34m\u001b[0m\u001b[0m\n\u001b[0;32m---> 33\u001b[0;31m \u001b[0mxgb\u001b[0m\u001b[0;34m.\u001b[0m\u001b[0mfit\u001b[0m\u001b[0;34m(\u001b[0m\u001b[0mX_train\u001b[0m\u001b[0;34m,\u001b[0m\u001b[0mY_train\u001b[0m\u001b[0;34m)\u001b[0m\u001b[0;34m\u001b[0m\u001b[0;34m\u001b[0m\u001b[0m\n\u001b[0m",
      "\u001b[0;31mNameError\u001b[0m: name 'xgb' is not defined"
     ]
    }
   ],
   "source": [
    "# Import required package and read the dataset\n",
    "import pandas as pd\n",
    "import numpy as np\n",
    "import seaborn as sns\n",
    "import random\n",
    "import xgboost as xgb\n",
    "from xgboost import XGBClassifier\n",
    "from matplotlib import pyplot as plt\n",
    "import warnings\n",
    "warnings.filterwarnings(\"ignore\")\n",
    "from sklearn.model_selection import train_test_split\n",
    "from sklearn import preprocessing\n",
    "diabetes = pd.read_csv(\"https://raw.githubusercontent.com/jeff1hwang/PIC16B_Diabetes_Prediction_Project/main/diabetes_data_upload.csv\")\n",
    "\n",
    "# Select features for modeling and Encode column names\n",
    "diabetes = diabetes[['muscle stiffness', 'weakness', 'visual blurring', 'Irritability', 'Alopecia', 'Polyuria', 'Polydipsia', 'sudden weight loss', 'Polyphagia', 'partial paresis', 'class']]\n",
    "le = preprocessing.LabelEncoder()\n",
    "diabetes['muscle stiffness'] = le.fit_transform(diabetes['muscle stiffness'])\n",
    "diabetes['Polyuria'] = le.fit_transform(diabetes['Polyuria'])\n",
    "diabetes['Polydipsia'] = le.fit_transform(diabetes['Polydipsia'])\n",
    "diabetes['sudden weight loss'] = le.fit_transform(diabetes['sudden weight loss'])\n",
    "diabetes['Polyphagia'] = le.fit_transform(diabetes['Polyphagia'])\n",
    "diabetes['partial paresis'] = le.fit_transform(diabetes['partial paresis'])\n",
    "diabetes['weakness'] = le.fit_transform(diabetes['weakness'])\n",
    "diabetes['visual blurring'] = le.fit_transform(diabetes['visual blurring'])\n",
    "diabetes['Irritability'] = le.fit_transform(diabetes['Irritability'])\n",
    "diabetes['Alopecia'] = le.fit_transform(diabetes['Alopecia'])\n",
    "diabetes['class'] = le.fit_transform(diabetes['class'])\n",
    "\n",
    "# Seperate X and Y, split training and testing dataset\n",
    "X = diabetes.drop('class',axis=1)\n",
    "Y = diabetes['class']\n",
    "np.random.seed(999)\n",
    "X_train,X_test,Y_train,Y_test = train_test_split(X,Y,test_size=0.2,random_state=100)\n",
    "xgb.fit(X_train,Y_train)"
   ]
  }
 ],
 "metadata": {
  "kernelspec": {
   "display_name": "Python 3",
   "language": "python",
   "name": "python3"
  },
  "language_info": {
   "codemirror_mode": {
    "name": "ipython",
    "version": 3
   },
   "file_extension": ".py",
   "mimetype": "text/x-python",
   "name": "python",
   "nbconvert_exporter": "python",
   "pygments_lexer": "ipython3",
   "version": "3.8.8"
  }
 },
 "nbformat": 4,
 "nbformat_minor": 5
}
