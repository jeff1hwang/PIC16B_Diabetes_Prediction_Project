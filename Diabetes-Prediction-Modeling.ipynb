{
 "cells": [
  {
   "cell_type": "markdown",
   "id": "7d7ef34e",
   "metadata": {},
   "source": [
    "# 1. Introduction"
   ]
  },
  {
   "cell_type": "markdown",
   "id": "1b80f2fa",
   "metadata": {},
   "source": [
    "Diabetes is a chronic disease that occurs when the pancreas is no longer able to produce insulin or when the body cannot make full use of the insulin it produces. In this case, our body’s blood sugar will rise, which will lead to a chronic damage dysfunction of various tissues, especially the eyes, kidneys, heart, blood vessels, and nerves.\n",
    "\n",
    "In this project, we will utilize machine learning algorithms to predict early-stage diabetes risk."
   ]
  },
  {
   "cell_type": "markdown",
   "id": "def89cb8",
   "metadata": {},
   "source": [
    "## 1.1 Imports"
   ]
  },
  {
   "cell_type": "markdown",
   "id": "3c39e1e1",
   "metadata": {},
   "source": [
    "To keep our project clean, we have consolidated all our imports in the cell below."
   ]
  },
  {
   "cell_type": "code",
   "execution_count": 1,
   "id": "10cbd75a",
   "metadata": {},
   "outputs": [],
   "source": [
    "import pandas as pd\n",
    "import numpy as np\n",
    "\n",
    "from matplotlib import pyplot as plt\n",
    "import seaborn as sns\n",
    "\n",
    "from sklearn.model_selection import train_test_split\n",
    "from sklearn import tree, preprocessing\n",
    "from sklearn.model_selection import cross_val_score\n",
    "from sklearn.metrics import confusion_matrix\n",
    "\n",
    "from sklearn.linear_model import LogisticRegression\n",
    "from sklearn.ensemble import RandomForestClassifier\n",
    "from sklearn import svm"
   ]
  },
  {
   "cell_type": "markdown",
   "id": "e7ecc41e",
   "metadata": {},
   "source": [
    "# 2. Pre-processing and Data Cleaning"
   ]
  },
  {
   "cell_type": "code",
   "execution_count": null,
   "id": "c451ff7f",
   "metadata": {},
   "outputs": [],
   "source": [
    "diabetes = pd.read.csv(\"diabetes_data_upload.csv\")"
   ]
  },
  {
   "cell_type": "markdown",
   "id": "7f7ac4b4",
   "metadata": {},
   "source": [
    "# 3. Exploratory Data Analysis"
   ]
  },
  {
   "cell_type": "code",
   "execution_count": null,
   "id": "59f61ae3",
   "metadata": {},
   "outputs": [],
   "source": []
  },
  {
   "cell_type": "markdown",
   "id": "e10211f2",
   "metadata": {},
   "source": [
    "# 4. Model Selection"
   ]
  },
  {
   "cell_type": "code",
   "execution_count": null,
   "id": "763ab3c3",
   "metadata": {},
   "outputs": [],
   "source": []
  },
  {
   "cell_type": "markdown",
   "id": "7e434a89",
   "metadata": {},
   "source": [
    "# 5. Modeling"
   ]
  },
  {
   "cell_type": "code",
   "execution_count": null,
   "id": "b9b9ab96",
   "metadata": {},
   "outputs": [],
   "source": []
  },
  {
   "cell_type": "markdown",
   "id": "2caa209c",
   "metadata": {},
   "source": [
    "# 6. Result"
   ]
  },
  {
   "cell_type": "code",
   "execution_count": null,
   "id": "b4e868f3",
   "metadata": {},
   "outputs": [],
   "source": []
  },
  {
   "cell_type": "markdown",
   "id": "d9ec44bd",
   "metadata": {},
   "source": [
    "# 7. Conclusion"
   ]
  },
  {
   "cell_type": "code",
   "execution_count": null,
   "id": "483ab766",
   "metadata": {},
   "outputs": [],
   "source": []
  },
  {
   "cell_type": "markdown",
   "id": "45cda7d2",
   "metadata": {},
   "source": [
    "# 8. Limitation"
   ]
  },
  {
   "cell_type": "code",
   "execution_count": null,
   "id": "5d70bc6f",
   "metadata": {},
   "outputs": [],
   "source": []
  },
  {
   "cell_type": "code",
   "execution_count": null,
   "id": "19fde23f",
   "metadata": {},
   "outputs": [],
   "source": []
  }
 ],
 "metadata": {
  "kernelspec": {
   "display_name": "Python 3",
   "language": "python",
   "name": "python3"
  },
  "language_info": {
   "codemirror_mode": {
    "name": "ipython",
    "version": 3
   },
   "file_extension": ".py",
   "mimetype": "text/x-python",
   "name": "python",
   "nbconvert_exporter": "python",
   "pygments_lexer": "ipython3",
   "version": "3.8.8"
  }
 },
 "nbformat": 4,
 "nbformat_minor": 5
}
